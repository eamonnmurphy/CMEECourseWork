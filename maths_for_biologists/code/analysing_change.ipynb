{
 "cells": [
  {
   "cell_type": "code",
   "execution_count": 1,
   "id": "ef6cf7c4",
   "metadata": {},
   "outputs": [],
   "source": [
    "import matplotlib.pyplot as plt\n",
    "import numpy as np"
   ]
  },
  {
   "cell_type": "code",
   "execution_count": 18,
   "id": "f3fe827b",
   "metadata": {},
   "outputs": [],
   "source": [
    "def bev_holt_recur(N_t, R = 1.1, K = 100):\n",
    "    ans = R * N_t / (1 + ((R-1)/K) * N_t)\n",
    "    return ans\n",
    "\n",
    "def bev_holt_expl(t, N0, R = 3, K = 100):\n",
    "    ans = (N0 * R ** t) / (1 + (((R ** t) - 1) / K) * N0)\n",
    "    return ans"
   ]
  },
  {
   "cell_type": "code",
   "execution_count": 21,
   "id": "38917837",
   "metadata": {},
   "outputs": [
    {
     "name": "stdout",
     "output_type": "stream",
     "text": [
      "10.891089108910892\n",
      "99.99999999999999\n"
     ]
    }
   ],
   "source": [
    "print(bev_holt_recur(10))\n",
    "print(bev_holt_expl(500, 10))"
   ]
  }
 ],
 "metadata": {
  "kernelspec": {
   "display_name": "Python 3 (ipykernel)",
   "language": "python",
   "name": "python3"
  },
  "language_info": {
   "codemirror_mode": {
    "name": "ipython",
    "version": 3
   },
   "file_extension": ".py",
   "mimetype": "text/x-python",
   "name": "python",
   "nbconvert_exporter": "python",
   "pygments_lexer": "ipython3",
   "version": "3.8.10"
  }
 },
 "nbformat": 4,
 "nbformat_minor": 5
}
