{
 "cells": [
  {
   "cell_type": "code",
   "execution_count": 1,
   "id": "d307406c",
   "metadata": {},
   "outputs": [],
   "source": [
    "import numpy as np\n",
    "import matplotlib.pyplot as plt"
   ]
  },
  {
   "cell_type": "code",
   "execution_count": 8,
   "id": "9546e127",
   "metadata": {},
   "outputs": [],
   "source": [
    "def p_t(t, p_0):\n",
    "    M = np.array([[2/3, 1/2], [1/3, 1/2]])\n",
    "    res = np.matmul(np.linalg.matrix_power(M, t), p_0)\n",
    "    return res"
   ]
  },
  {
   "cell_type": "code",
   "execution_count": 10,
   "id": "12e13211",
   "metadata": {},
   "outputs": [
    {
     "name": "stdout",
     "output_type": "stream",
     "text": [
      "[0.66666667 0.33333333]\n",
      "[0.61111111 0.38888889]\n",
      "[0.60185185 0.39814815]\n",
      "[0.6 0.4]\n"
     ]
    }
   ],
   "source": [
    "p_0 = np.array([1, 0])\n",
    "\n",
    "print(p_t(1, p_0))\n",
    "print(p_t(2, p_0))\n",
    "print(p_t(3, p_0))\n",
    "print(p_t(100, p_0))"
   ]
  },
  {
   "cell_type": "code",
   "execution_count": 11,
   "id": "b4e4181a",
   "metadata": {},
   "outputs": [
    {
     "name": "stdout",
     "output_type": "stream",
     "text": [
      "[0.5 0.5]\n",
      "[0.58333333 0.41666667]\n",
      "[0.59722222 0.40277778]\n",
      "[0.6 0.4]\n"
     ]
    }
   ],
   "source": [
    "p_0 = np.array([0, 1])\n",
    "\n",
    "print(p_t(1, p_0))\n",
    "print(p_t(2, p_0))\n",
    "print(p_t(3, p_0))\n",
    "print(p_t(100, p_0))"
   ]
  },
  {
   "cell_type": "code",
   "execution_count": 12,
   "id": "a9de315f",
   "metadata": {
    "scrolled": true
   },
   "outputs": [
    {
     "name": "stdout",
     "output_type": "stream",
     "text": [
      "[0.6 0.4]\n",
      "[0.6 0.4]\n",
      "[0.6 0.4]\n",
      "[0.6 0.4]\n"
     ]
    }
   ],
   "source": [
    "p_0 = np.array([0.6, 0.4])\n",
    "\n",
    "print(p_t(1, p_0))\n",
    "print(p_t(2, p_0))\n",
    "print(p_t(3, p_0))\n",
    "print(p_t(100, p_0))"
   ]
  },
  {
   "cell_type": "code",
   "execution_count": 16,
   "id": "3fc4badc",
   "metadata": {},
   "outputs": [
    {
     "name": "stdout",
     "output_type": "stream",
     "text": [
      "[-0.16666667  0.16666667]\n",
      "[-0.02777778  0.02777778]\n",
      "[-0.00462963  0.00462963]\n",
      "[0. 0.]\n",
      "[0.16666667 0.16666667]\n",
      "[0.16666667 0.16666667]\n",
      "[0.16666667 0.16666667]\n",
      "[0.16666667 0.16666667]\n",
      "[0.16666667 0.16666667]\n",
      "[0.16666667 0.16666667]\n",
      "[0.16666667 0.16666667]\n",
      "[0.16666667 0.16666667]\n",
      "[0.16666667 0.16666667]\n",
      "[0.16666666 0.16666667]\n",
      "[0.1666667  0.16666666]\n",
      "[0.16666671 0.16666663]\n",
      "[0.16666763 0.1666663 ]\n",
      "[0.16666812 0.16666522]\n",
      "[0.16667537 0.16667972]\n",
      "[0.16661447 0.16677106]\n",
      "[0.16729323 0.16619718]\n",
      "[0.16853933 0.16384181]\n",
      "[0.2        0.17241379]\n"
     ]
    }
   ],
   "source": [
    "p_0 = np.array([-1, 1])\n",
    "\n",
    "print(p_t(1, p_0))\n",
    "print(p_t(2, p_0))\n",
    "print(p_t(3, p_0))\n",
    "print(p_t(100, p_0))\n",
    "\n",
    "for i in range(1, 20):\n",
    "    ratio = p_t(i + 1, p_0) / p_t(i, p_0)\n",
    "    print(ratio)"
   ]
  },
  {
   "cell_type": "code",
   "execution_count": 23,
   "id": "b3f976f7",
   "metadata": {},
   "outputs": [],
   "source": [
    "def new_pt(t, gamma, e_1 = 1, e_2 = 1/6):\n",
    "    a_1 = np.array([0.6, 0.4])\n",
    "    a_2 = np.array([-1, 1])\n",
    "    \n",
    "    ans = a_1 + gamma * a_2 * (e_2 ** t)\n",
    "    return ans"
   ]
  },
  {
   "cell_type": "code",
   "execution_count": 24,
   "id": "8bef8f53",
   "metadata": {},
   "outputs": [
    {
     "name": "stdout",
     "output_type": "stream",
     "text": [
      "[0.66666667 0.33333333]\n",
      "[0.61111111 0.38888889]\n",
      "[0.60185185 0.39814815]\n",
      "[0.6 0.4]\n"
     ]
    }
   ],
   "source": [
    "gamma = -0.4\n",
    "\n",
    "print(new_pt(1, gamma))\n",
    "print(new_pt(2, gamma))\n",
    "print(new_pt(3, gamma))\n",
    "print(new_pt(100, gamma))"
   ]
  },
  {
   "cell_type": "code",
   "execution_count": 45,
   "id": "cb84a879",
   "metadata": {},
   "outputs": [],
   "source": [
    "def pagerank_vector(p_0, L, n):\n",
    "    ans = np.matmul(np.linalg.matrix_power(L, n), p_0)\n",
    "    return ans"
   ]
  },
  {
   "cell_type": "code",
   "execution_count": 48,
   "id": "5a4d5104",
   "metadata": {},
   "outputs": [
    {
     "name": "stdout",
     "output_type": "stream",
     "text": [
      "[[0.15562336]\n",
      " [0.30081549]\n",
      " [0.13634415]\n",
      " [0.28288532]\n",
      " [0.12433168]]\n",
      "[[0.15562336]\n",
      " [0.30081549]\n",
      " [0.13634415]\n",
      " [0.28288532]\n",
      " [0.12433168]]\n",
      "[[0.15562336]\n",
      " [0.30081549]\n",
      " [0.13634415]\n",
      " [0.28288532]\n",
      " [0.12433168]]\n"
     ]
    }
   ],
   "source": [
    "p_01 = np.array([[0.05], [0.1], [0.01], [0.1], [0.74]])\n",
    "p_02 = np.array([[0.03], [0.1], [0.01], [0.1], [0.76]])\n",
    "p_03 = np.array([[0.2], [0.2], [0.2], [0.2], [0.2]])\n",
    "\n",
    "L = np.array([[0.23, 0.05, 0.22, 0.26, 0.01],\n",
    "             [0.25, 0.35, 0.32, 0.25, 0.34],\n",
    "             [0.02, 0.03, 0.17, 0.3, 0.13],\n",
    "             [0.23, 0.55, 0.18, 0.07, 0.3],\n",
    "             [0.27, 0.02, 0.11, 0.12, 0.22]])\n",
    "\n",
    "print(pagerank_vector(p_01, L, 1000))\n",
    "print(pagerank_vector(p_02, L, 1000))\n",
    "print(pagerank_vector(p_03, L, 100))"
   ]
  }
 ],
 "metadata": {
  "kernelspec": {
   "display_name": "Python 3 (ipykernel)",
   "language": "python",
   "name": "python3"
  },
  "language_info": {
   "codemirror_mode": {
    "name": "ipython",
    "version": 3
   },
   "file_extension": ".py",
   "mimetype": "text/x-python",
   "name": "python",
   "nbconvert_exporter": "python",
   "pygments_lexer": "ipython3",
   "version": "3.8.10"
  }
 },
 "nbformat": 4,
 "nbformat_minor": 5
}
