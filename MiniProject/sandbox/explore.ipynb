{
 "cells": [
  {
   "cell_type": "code",
   "execution_count": 4,
   "id": "f0523ed9-9486-4881-81c6-580ee7e28eb0",
   "metadata": {},
   "outputs": [],
   "source": [
    "import pandas as pd\n",
    "import scipy as sc\n",
    "import matplotlib.pylab as plt\n",
    "import seaborn as sns"
   ]
  },
  {
   "cell_type": "code",
   "execution_count": 25,
   "id": "9dd89048-89f7-4a15-9854-d3724f4dbe89",
   "metadata": {},
   "outputs": [],
   "source": [
    "growth_data = pd.read_csv(\"../data/LogisticGrowthData.csv\")\n",
    "meta_data = pd.read_csv(\"../data/LogisticGrowthMetaData.csv\")"
   ]
  },
  {
   "cell_type": "code",
   "execution_count": 26,
   "id": "921c7035-1921-44b0-8fd1-79184795c351",
   "metadata": {},
   "outputs": [],
   "source": [
    "growth_data.insert(0, \"ID\", growth_data.Species + \"_\" + growth_data.Temp.map(str) \\\n",
    "            + \"_\" + growth_data.Medium + \"_\" + growth_data.Citation)   "
   ]
  },
  {
   "cell_type": "code",
   "execution_count": 27,
   "id": "94a97bdc",
   "metadata": {},
   "outputs": [],
   "source": [
    "ids = range(1,len(growth_data.ID.unique()))\n",
    "uniques = growth_data.ID.unique()\n",
    "for i in range(0, len(growth_data.ID.unique())-1):\n",
    "        growth_data['ID'] = growth_data.ID.replace(to_replace = uniques[i],\\\n",
    "                                 value =  ids[i])\n",
    "        \n",
    "growth_data.to_csv(\"EditedDataSet.csv\")"
   ]
  },
  {
   "cell_type": "code",
   "execution_count": 19,
   "id": "f9fc9fc6",
   "metadata": {},
   "outputs": [
    {
     "name": "stdout",
     "output_type": "stream",
     "text": [
      "range(1, 285)\n"
     ]
    }
   ],
   "source": []
  }
 ],
 "metadata": {
  "kernelspec": {
   "display_name": "Python 3 (ipykernel)",
   "language": "python",
   "name": "python3"
  },
  "language_info": {
   "codemirror_mode": {
    "name": "ipython",
    "version": 3
   },
   "file_extension": ".py",
   "mimetype": "text/x-python",
   "name": "python",
   "nbconvert_exporter": "python",
   "pygments_lexer": "ipython3",
   "version": "3.8.10"
  },
  "latex_envs": {
   "LaTeX_envs_menu_present": true,
   "autoclose": false,
   "autocomplete": true,
   "bibliofile": "biblio.bib",
   "cite_by": "apalike",
   "current_citInitial": 1,
   "eqLabelWithNumbers": true,
   "eqNumInitial": 1,
   "hotkeys": {
    "equation": "Ctrl-E",
    "itemize": "Ctrl-I"
   },
   "labels_anchors": false,
   "latex_user_defs": false,
   "report_style_numbering": false,
   "user_envs_cfg": false
  },
  "varInspector": {
   "cols": {
    "lenName": 16,
    "lenType": 16,
    "lenVar": 40
   },
   "kernels_config": {
    "python": {
     "delete_cmd_postfix": "",
     "delete_cmd_prefix": "del ",
     "library": "var_list.py",
     "varRefreshCmd": "print(var_dic_list())"
    },
    "r": {
     "delete_cmd_postfix": ") ",
     "delete_cmd_prefix": "rm(",
     "library": "var_list.r",
     "varRefreshCmd": "cat(var_dic_list()) "
    }
   },
   "types_to_exclude": [
    "module",
    "function",
    "builtin_function_or_method",
    "instance",
    "_Feature"
   ],
   "window_display": false
  }
 },
 "nbformat": 4,
 "nbformat_minor": 5
}
