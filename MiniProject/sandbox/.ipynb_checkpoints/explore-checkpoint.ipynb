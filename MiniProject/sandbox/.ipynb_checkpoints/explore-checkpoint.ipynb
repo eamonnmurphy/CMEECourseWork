{
 "cells": [
  {
   "cell_type": "code",
   "execution_count": 3,
   "id": "f0523ed9-9486-4881-81c6-580ee7e28eb0",
   "metadata": {},
   "outputs": [],
   "source": [
    "import pandas as pd\n",
    "import scipy as sc\n",
    "import matplotlib.pylab as plt\n",
    "import seaborn as sns"
   ]
  },
  {
   "cell_type": "code",
   "execution_count": 4,
   "id": "9dd89048-89f7-4a15-9854-d3724f4dbe89",
   "metadata": {},
   "outputs": [],
   "source": [
    "growth_data = pd.read_csv(\"../data/LogisticGrowthData.csv\")\n",
    "meta_data = pd.read_csv(\"../data/LogisticGrowthMetaData.csv\")"
   ]
  },
  {
   "cell_type": "code",
   "execution_count": null,
   "id": "921c7035-1921-44b0-8fd1-79184795c351",
   "metadata": {},
   "outputs": [],
   "source": [
    "data.insert(0, \"ID\", data.Species + data.Temp.map(str) \\\n",
    "            data.Medium + data.Citation)\n"
   ]
  }
 ],
 "metadata": {
  "kernelspec": {
   "display_name": "Python 3 (ipykernel)",
   "language": "python",
   "name": "python3"
  },
  "language_info": {
   "codemirror_mode": {
    "name": "ipython",
    "version": 3
   },
   "file_extension": ".py",
   "mimetype": "text/x-python",
   "name": "python",
   "nbconvert_exporter": "python",
   "pygments_lexer": "ipython3",
   "version": "3.8.10"
  }
 },
 "nbformat": 4,
 "nbformat_minor": 5
}
